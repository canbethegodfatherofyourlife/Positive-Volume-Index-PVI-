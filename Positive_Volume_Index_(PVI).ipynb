{
  "nbformat": 4,
  "nbformat_minor": 0,
  "metadata": {
    "colab": {
      "name": "Positive Volume Index (PVI).ipynb",
      "provenance": [],
      "authorship_tag": "ABX9TyOrYnO9qNgF+JPNWV/JzyMM",
      "include_colab_link": true
    },
    "kernelspec": {
      "name": "python3",
      "display_name": "Python 3"
    },
    "language_info": {
      "name": "python"
    }
  },
  "cells": [
    {
      "cell_type": "markdown",
      "metadata": {
        "id": "view-in-github",
        "colab_type": "text"
      },
      "source": [
        "<a href=\"https://colab.research.google.com/github/canbethegodfatherofyourlife/Positive-Volume-Index-PVI-/blob/main/Positive_Volume_Index_(PVI).ipynb\" target=\"_parent\"><img src=\"https://colab.research.google.com/assets/colab-badge.svg\" alt=\"Open In Colab\"/></a>"
      ]
    },
    {
      "cell_type": "markdown",
      "metadata": {
        "id": "_fRJDlHNjJ41"
      },
      "source": [
        "**Positive Volume Index (PVI)**"
      ]
    },
    {
      "cell_type": "markdown",
      "metadata": {
        "id": "Bc9lz3bAjNPI"
      },
      "source": [
        "The positive volume index (PVI) is an indicator used in technical analysis that provides signals for price changes based on positive increases in trading volume.\n",
        " The PVI helps in assessing trend strength and potentially confirming price reversals and can be calculated for popular market indexes as well as used to analyze movements in individual securities."
      ]
    },
    {
      "cell_type": "markdown",
      "metadata": {
        "id": "5_2qlwobjUCT"
      },
      "source": [
        "**Significance**"
      ]
    },
    {
      "cell_type": "markdown",
      "metadata": {
        "id": "lJ1OEKLsjYCg"
      },
      "source": [
        "When the volume of a security traded during a day exceeds the previous day, PVI shows an uptrend and when the volume decreases compared to the last day PVI shows a downtrend.\n",
        "When the PVI stays above a 255-day MA, it shows people are having a bullish outlook on the stock and vice-versa.\n"
      ]
    },
    {
      "cell_type": "markdown",
      "metadata": {
        "id": "MmOucjlYjYuT"
      },
      "source": [
        "**Formula**"
      ]
    },
    {
      "cell_type": "markdown",
      "metadata": {
        "id": "2jjW-CHdkk8v"
      },
      "source": [
        "If today’s volume is greater than yesterday’s volume, then:\n",
        "\n",
        " **PVI = PPVI+ (TCP−YCP)*PPVI/YCP**\n",
        "\n",
        "where:\n",
        "PVI=positive volume index\n",
        "PPVI=previous positive volume index\n",
        "TCP=today’s closing price\n",
        "YCP=yesterday’s closing price\n",
        "​\n",
        "If today’s volume is lesser than yesterday’s volume, then:\n",
        "\n",
        "**PVI = Previous PVI**"
      ]
    },
    {
      "cell_type": "code",
      "metadata": {
        "id": "HcYtKG-KlgTd"
      },
      "source": [
        "import numpy as np\n",
        "import pandas as pd\n",
        "import talib as ta\n",
        "import yfinance as yf\n",
        "import matplotlib.pyplot as plt"
      ],
      "execution_count": 3,
      "outputs": []
    },
    {
      "cell_type": "code",
      "metadata": {
        "colab": {
          "base_uri": "https://localhost:8080/",
          "height": 256
        },
        "id": "FNmIqsj0lt-f",
        "outputId": "5a05ea8f-fcd6-4850-ebfe-8fa1255f7ac5"
      },
      "source": [
        "# input\n",
        "symbol = 'TSLA'\n",
        "start = '2020-11-01'\n",
        "end   = '2021-11-01'\n",
        "\n",
        "# Read data \n",
        "df = yf.download(symbol,start,end)\n",
        "\n",
        "# View Columns\n",
        "df.head()"
      ],
      "execution_count": 4,
      "outputs": [
        {
          "output_type": "stream",
          "name": "stdout",
          "text": [
            "\r[*********************100%***********************]  1 of 1 completed\n"
          ]
        },
        {
          "output_type": "execute_result",
          "data": {
            "text/html": [
              "<div>\n",
              "<style scoped>\n",
              "    .dataframe tbody tr th:only-of-type {\n",
              "        vertical-align: middle;\n",
              "    }\n",
              "\n",
              "    .dataframe tbody tr th {\n",
              "        vertical-align: top;\n",
              "    }\n",
              "\n",
              "    .dataframe thead th {\n",
              "        text-align: right;\n",
              "    }\n",
              "</style>\n",
              "<table border=\"1\" class=\"dataframe\">\n",
              "  <thead>\n",
              "    <tr style=\"text-align: right;\">\n",
              "      <th></th>\n",
              "      <th>Open</th>\n",
              "      <th>High</th>\n",
              "      <th>Low</th>\n",
              "      <th>Close</th>\n",
              "      <th>Adj Close</th>\n",
              "      <th>Volume</th>\n",
              "    </tr>\n",
              "    <tr>\n",
              "      <th>Date</th>\n",
              "      <th></th>\n",
              "      <th></th>\n",
              "      <th></th>\n",
              "      <th></th>\n",
              "      <th></th>\n",
              "      <th></th>\n",
              "    </tr>\n",
              "  </thead>\n",
              "  <tbody>\n",
              "    <tr>\n",
              "      <th>2020-11-02</th>\n",
              "      <td>394.000000</td>\n",
              "      <td>406.980011</td>\n",
              "      <td>392.299988</td>\n",
              "      <td>400.510010</td>\n",
              "      <td>400.510010</td>\n",
              "      <td>29021100</td>\n",
              "    </tr>\n",
              "    <tr>\n",
              "      <th>2020-11-03</th>\n",
              "      <td>409.730011</td>\n",
              "      <td>427.769989</td>\n",
              "      <td>406.690002</td>\n",
              "      <td>423.899994</td>\n",
              "      <td>423.899994</td>\n",
              "      <td>34351700</td>\n",
              "    </tr>\n",
              "    <tr>\n",
              "      <th>2020-11-04</th>\n",
              "      <td>430.619995</td>\n",
              "      <td>435.399994</td>\n",
              "      <td>417.100006</td>\n",
              "      <td>420.980011</td>\n",
              "      <td>420.980011</td>\n",
              "      <td>32143100</td>\n",
              "    </tr>\n",
              "    <tr>\n",
              "      <th>2020-11-05</th>\n",
              "      <td>428.299988</td>\n",
              "      <td>440.000000</td>\n",
              "      <td>424.000000</td>\n",
              "      <td>438.089996</td>\n",
              "      <td>438.089996</td>\n",
              "      <td>28414500</td>\n",
              "    </tr>\n",
              "    <tr>\n",
              "      <th>2020-11-06</th>\n",
              "      <td>436.100006</td>\n",
              "      <td>436.570007</td>\n",
              "      <td>424.279999</td>\n",
              "      <td>429.950012</td>\n",
              "      <td>429.950012</td>\n",
              "      <td>21706000</td>\n",
              "    </tr>\n",
              "  </tbody>\n",
              "</table>\n",
              "</div>"
            ],
            "text/plain": [
              "                  Open        High  ...   Adj Close    Volume\n",
              "Date                                ...                      \n",
              "2020-11-02  394.000000  406.980011  ...  400.510010  29021100\n",
              "2020-11-03  409.730011  427.769989  ...  423.899994  34351700\n",
              "2020-11-04  430.619995  435.399994  ...  420.980011  32143100\n",
              "2020-11-05  428.299988  440.000000  ...  438.089996  28414500\n",
              "2020-11-06  436.100006  436.570007  ...  429.950012  21706000\n",
              "\n",
              "[5 rows x 6 columns]"
            ]
          },
          "metadata": {},
          "execution_count": 4
        }
      ]
    },
    {
      "cell_type": "code",
      "metadata": {
        "id": "-ADStFbRlu9-"
      },
      "source": [
        "returns = df['Adj Close'].pct_change()\n",
        "vol_increase = (df['Volume'].shift(1) < df['Volume'])\n",
        "\n",
        "pvi = pd.Series(data=np.nan, index=df['Adj Close'].index, dtype='float64')\n",
        "\n",
        "pvi.iloc[0] = 1000\n",
        "for i in range(1,len(pvi)):\n",
        "    if vol_increase.iloc[i]:\n",
        "        pvi.iloc[i] = pvi.iloc[i - 1] * (1.0 + returns.iloc[i])\n",
        "    else:\n",
        "        pvi.iloc[i] = pvi.iloc[i - 1]\n",
        "\n",
        "pvi = pvi.replace([np.inf, -np.inf], np.nan).fillna(1000)\n",
        "\n",
        "df['PVI'] = pd.Series(pvi)"
      ],
      "execution_count": 5,
      "outputs": []
    },
    {
      "cell_type": "code",
      "metadata": {
        "colab": {
          "base_uri": "https://localhost:8080/",
          "height": 238
        },
        "id": "DojX0hFXnYDF",
        "outputId": "79b4490a-22d3-4403-d5da-b408d9d95c46"
      },
      "source": [
        "df.head()"
      ],
      "execution_count": 6,
      "outputs": [
        {
          "output_type": "execute_result",
          "data": {
            "text/html": [
              "<div>\n",
              "<style scoped>\n",
              "    .dataframe tbody tr th:only-of-type {\n",
              "        vertical-align: middle;\n",
              "    }\n",
              "\n",
              "    .dataframe tbody tr th {\n",
              "        vertical-align: top;\n",
              "    }\n",
              "\n",
              "    .dataframe thead th {\n",
              "        text-align: right;\n",
              "    }\n",
              "</style>\n",
              "<table border=\"1\" class=\"dataframe\">\n",
              "  <thead>\n",
              "    <tr style=\"text-align: right;\">\n",
              "      <th></th>\n",
              "      <th>Open</th>\n",
              "      <th>High</th>\n",
              "      <th>Low</th>\n",
              "      <th>Close</th>\n",
              "      <th>Adj Close</th>\n",
              "      <th>Volume</th>\n",
              "      <th>PVI</th>\n",
              "    </tr>\n",
              "    <tr>\n",
              "      <th>Date</th>\n",
              "      <th></th>\n",
              "      <th></th>\n",
              "      <th></th>\n",
              "      <th></th>\n",
              "      <th></th>\n",
              "      <th></th>\n",
              "      <th></th>\n",
              "    </tr>\n",
              "  </thead>\n",
              "  <tbody>\n",
              "    <tr>\n",
              "      <th>2020-11-02</th>\n",
              "      <td>394.000000</td>\n",
              "      <td>406.980011</td>\n",
              "      <td>392.299988</td>\n",
              "      <td>400.510010</td>\n",
              "      <td>400.510010</td>\n",
              "      <td>29021100</td>\n",
              "      <td>1000.000000</td>\n",
              "    </tr>\n",
              "    <tr>\n",
              "      <th>2020-11-03</th>\n",
              "      <td>409.730011</td>\n",
              "      <td>427.769989</td>\n",
              "      <td>406.690002</td>\n",
              "      <td>423.899994</td>\n",
              "      <td>423.899994</td>\n",
              "      <td>34351700</td>\n",
              "      <td>1058.400498</td>\n",
              "    </tr>\n",
              "    <tr>\n",
              "      <th>2020-11-04</th>\n",
              "      <td>430.619995</td>\n",
              "      <td>435.399994</td>\n",
              "      <td>417.100006</td>\n",
              "      <td>420.980011</td>\n",
              "      <td>420.980011</td>\n",
              "      <td>32143100</td>\n",
              "      <td>1058.400498</td>\n",
              "    </tr>\n",
              "    <tr>\n",
              "      <th>2020-11-05</th>\n",
              "      <td>428.299988</td>\n",
              "      <td>440.000000</td>\n",
              "      <td>424.000000</td>\n",
              "      <td>438.089996</td>\n",
              "      <td>438.089996</td>\n",
              "      <td>28414500</td>\n",
              "      <td>1058.400498</td>\n",
              "    </tr>\n",
              "    <tr>\n",
              "      <th>2020-11-06</th>\n",
              "      <td>436.100006</td>\n",
              "      <td>436.570007</td>\n",
              "      <td>424.279999</td>\n",
              "      <td>429.950012</td>\n",
              "      <td>429.950012</td>\n",
              "      <td>21706000</td>\n",
              "      <td>1058.400498</td>\n",
              "    </tr>\n",
              "  </tbody>\n",
              "</table>\n",
              "</div>"
            ],
            "text/plain": [
              "                  Open        High  ...    Volume          PVI\n",
              "Date                                ...                       \n",
              "2020-11-02  394.000000  406.980011  ...  29021100  1000.000000\n",
              "2020-11-03  409.730011  427.769989  ...  34351700  1058.400498\n",
              "2020-11-04  430.619995  435.399994  ...  32143100  1058.400498\n",
              "2020-11-05  428.299988  440.000000  ...  28414500  1058.400498\n",
              "2020-11-06  436.100006  436.570007  ...  21706000  1058.400498\n",
              "\n",
              "[5 rows x 7 columns]"
            ]
          },
          "metadata": {},
          "execution_count": 6
        }
      ]
    },
    {
      "cell_type": "code",
      "metadata": {
        "colab": {
          "base_uri": "https://localhost:8080/",
          "height": 658
        },
        "id": "hTy9ejQQnb2q",
        "outputId": "321e7ba5-8405-43fe-ef07-3a40ca8e3b63"
      },
      "source": [
        "fig = plt.figure(figsize=(14,10))\n",
        "ax1 = plt.subplot(2, 1, 1)\n",
        "ax1.plot(df['Adj Close'])\n",
        "ax1.set_title('Stock '+ symbol +' Closing Price')\n",
        "ax1.set_ylabel('Price')\n",
        "ax1.legend(loc='best')\n",
        "\n",
        "ax2 = plt.subplot(2, 1, 2)\n",
        "ax2.plot(df['PVI'], label='Positive Volume Index', color='green')\n",
        "ax2.grid()\n",
        "ax2.legend(loc='best')\n",
        "ax2.set_ylabel('Positive Volume Index')\n",
        "ax2.set_xlabel('Date')"
      ],
      "execution_count": 7,
      "outputs": [
        {
          "output_type": "stream",
          "name": "stderr",
          "text": [
            "No handles with labels found to put in legend.\n"
          ]
        },
        {
          "output_type": "execute_result",
          "data": {
            "text/plain": [
              "Text(0.5, 0, 'Date')"
            ]
          },
          "metadata": {},
          "execution_count": 7
        },
        {
          "output_type": "display_data",
          "data": {
            "image/png": "[encoded data removed]",
            "text/plain": [
              "<Figure size 1008x720 with 2 Axes>"
            ]
          },
          "metadata": {
            "needs_background": "light"
          }
        }
      ]
    }
  ]
}